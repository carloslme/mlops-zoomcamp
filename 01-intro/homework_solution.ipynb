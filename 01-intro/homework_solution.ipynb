{
 "cells": [
  {
   "attachments": {},
   "cell_type": "markdown",
   "metadata": {},
   "source": [
    "# Setup"
   ]
  },
  {
   "cell_type": "code",
   "execution_count": 8,
   "metadata": {},
   "outputs": [],
   "source": [
    "# TODO: Verify that Python 3+ exists\n",
    "\n",
    "import requests\n",
    "\n",
    "import pandas as pd"
   ]
  },
  {
   "attachments": {},
   "cell_type": "markdown",
   "metadata": {},
   "source": [
    "# Setup pipeline paths"
   ]
  },
  {
   "cell_type": "code",
   "execution_count": 18,
   "metadata": {},
   "outputs": [],
   "source": [
    "# Directory of the raw data files\n",
    "_data_root = './data/'\n",
    "\n",
    "# Create the dataset directory\n",
    "!mkdir -p {_data_root}\n",
    "\n",
    "PATH_RAW_DATA_JAN_2022 = f'{_data_root}NYC-Taxi-Dataset-2022-01.parquet'\n",
    "PATH_RAW_DATA_FEB_2022 = f'{_data_root}NYC-Taxi-Dataset-2022-02.parquet'\n",
    "\n",
    "URL_RAW_DATA_JAN_2022 = 'https://d37ci6vzurychx.cloudfront.net/trip-data/yellow_tripdata_2022-01.parquet'\n",
    "URL_RAW_DATA_FEB_2022 = 'https://d37ci6vzurychx.cloudfront.net/trip-data/yellow_tripdata_2022-02.parquet'\n"
   ]
  },
  {
   "attachments": {},
   "cell_type": "markdown",
   "metadata": {},
   "source": [
    "# Load and prepare the dataset"
   ]
  },
  {
   "cell_type": "code",
   "execution_count": 10,
   "metadata": {},
   "outputs": [],
   "source": [
    "def download_file(url: str, save_path: str) -> None:\n",
    "    \"\"\"Download any type of file and save it locally.\n",
    "\n",
    "    Args:\n",
    "        url (str): URL of data file\n",
    "        save_path (str): Local path to save the file\n",
    "    \"\"\"\n",
    "\n",
    "    response = requests.get(url)\n",
    "    with open(save_path, 'wb') as file:\n",
    "        file.write(response.content)"
   ]
  },
  {
   "attachments": {},
   "cell_type": "markdown",
   "metadata": {},
   "source": [
    "Download data"
   ]
  },
  {
   "cell_type": "code",
   "execution_count": 22,
   "metadata": {},
   "outputs": [
    {
     "name": "stdout",
     "output_type": "stream",
     "text": [
      "Data downloaded, check the folder ./data/\n"
     ]
    }
   ],
   "source": [
    "try:\n",
    "    download_file(URL_RAW_DATA_JAN_2022, PATH_RAW_DATA_JAN_2022)\n",
    "    download_file(URL_RAW_DATA_FEB_2022, PATH_RAW_DATA_FEB_2022)\n",
    "    print(f\"Data downloaded, check the folder {_data_root}\")\n",
    "except Exception as e:\n",
    "    print(f\"Error: {e}\")\n"
   ]
  },
  {
   "cell_type": "code",
   "execution_count": null,
   "metadata": {},
   "outputs": [],
   "source": []
  }
 ],
 "metadata": {
  "kernelspec": {
   "display_name": "venv",
   "language": "python",
   "name": "python3"
  },
  "language_info": {
   "codemirror_mode": {
    "name": "ipython",
    "version": 3
   },
   "file_extension": ".py",
   "mimetype": "text/x-python",
   "name": "python",
   "nbconvert_exporter": "python",
   "pygments_lexer": "ipython3",
   "version": "3.9.5"
  },
  "orig_nbformat": 4
 },
 "nbformat": 4,
 "nbformat_minor": 2
}
