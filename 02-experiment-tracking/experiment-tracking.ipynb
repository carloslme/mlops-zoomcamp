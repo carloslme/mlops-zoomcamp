{
 "cells": [
  {
   "attachments": {},
   "cell_type": "markdown",
   "metadata": {},
   "source": [
    "# Homework\n",
    "The goal of this homework is to get familiar with tools like MLflow for experiment tracking and model management."
   ]
  },
  {
   "attachments": {},
   "cell_type": "markdown",
   "metadata": {},
   "source": [
    "# Setup\n"
   ]
  },
  {
   "attachments": {},
   "cell_type": "markdown",
   "metadata": {},
   "source": [
    "## Import libraries"
   ]
  },
  {
   "cell_type": "code",
   "execution_count": 24,
   "metadata": {},
   "outputs": [],
   "source": [
    "import requests\n",
    "import os\n",
    "\n",
    "from mlflow.tracking import MlflowClient"
   ]
  },
  {
   "attachments": {},
   "cell_type": "markdown",
   "metadata": {},
   "source": [
    "## Define paths"
   ]
  },
  {
   "cell_type": "code",
   "execution_count": 14,
   "metadata": {},
   "outputs": [],
   "source": [
    "# Directory of the raw data files\n",
    "_data_root = './data'\n",
    "\n",
    "# Create the dataset directory\n",
    "!mkdir -p {_data_root}\n",
    "\n",
    "PATH_RAW_DATA_JAN_2022 = f'{_data_root}/green_tripdata_2022-01.parquet'\n",
    "PATH_RAW_DATA_FEB_2022 = f'{_data_root}/green_tripdata_2022-02.parquet'\n",
    "PATH_RAW_DATA_MAR_2022 = f'{_data_root}/green_tripdata_2022-03.parquet'\n",
    "\n",
    "URL_RAW_DATA_JAN_2022 = 'https://d37ci6vzurychx.cloudfront.net/trip-data/green_tripdata_2022-01.parquet'\n",
    "URL_RAW_DATA_FEB_2022 = 'https://d37ci6vzurychx.cloudfront.net/trip-data/green_tripdata_2022-02.parquet'\n",
    "URL_RAW_DATA_MAR_2022 = 'https://d37ci6vzurychx.cloudfront.net/trip-data/green_tripdata_2022-03.parquet'\n",
    "\n",
    "TAXI_DATA_FOLDER = _data_root"
   ]
  },
  {
   "attachments": {},
   "cell_type": "markdown",
   "metadata": {},
   "source": [
    "## Download data"
   ]
  },
  {
   "cell_type": "code",
   "execution_count": 15,
   "metadata": {},
   "outputs": [
    {
     "name": "stdout",
     "output_type": "stream",
     "text": [
      "Data downloaded, check the folder ./data\n"
     ]
    }
   ],
   "source": [
    "def download_file(url: str, save_path: str) -> None:\n",
    "    \"\"\"Download any type of file and save it locally.\n",
    "\n",
    "    Args:\n",
    "        url (str): URL of data file\n",
    "        save_path (str): Local path to save the file\n",
    "    \"\"\"\n",
    "\n",
    "    response = requests.get(url)\n",
    "    with open(save_path, 'wb') as file:\n",
    "        file.write(response.content)\n",
    "\n",
    "try:\n",
    "    download_file(URL_RAW_DATA_JAN_2022, PATH_RAW_DATA_JAN_2022)\n",
    "    download_file(URL_RAW_DATA_FEB_2022, PATH_RAW_DATA_FEB_2022)\n",
    "    download_file(URL_RAW_DATA_MAR_2022, PATH_RAW_DATA_MAR_2022)\n",
    "    print(f\"Data downloaded, check the folder {_data_root}\")\n",
    "except Exception as e:\n",
    "    print(f\"Error: {e}\")\n"
   ]
  },
  {
   "attachments": {},
   "cell_type": "markdown",
   "metadata": {},
   "source": [
    "# Q1. Install the package\n",
    "To get started with MLflow you'll need to install the appropriate Python package.\n",
    "\n",
    "For this we recommend creating a separate Python environment, for example, you can use conda environments, and then install the package there with pip or conda.\n",
    "\n",
    "Once you installed the package, run the command `mlflow --version`  and check the output.\n",
    "\n",
    "What's the version that you have?"
   ]
  },
  {
   "cell_type": "code",
   "execution_count": 1,
   "metadata": {},
   "outputs": [
    {
     "name": "stdout",
     "output_type": "stream",
     "text": [
      "mlflow, version 2.3.2\n"
     ]
    }
   ],
   "source": [
    "# Checking version\n",
    "!mlflow --version"
   ]
  },
  {
   "attachments": {},
   "cell_type": "markdown",
   "metadata": {},
   "source": [
    "# Q2. Download and preprocess the data\n",
    "We'll use the Green Taxi Trip Records dataset to predict the amount of tips for each trip.\n",
    "\n",
    "Download the data for January, February and March 2022 in parquet format from [here](https://www.nyc.gov/site/tlc/about/tlc-trip-record-data.page).\n",
    "\n",
    "Use the script preprocess_data.py located in the folder homework to preprocess the data.\n",
    "\n",
    "The script will:\n",
    "\n",
    "* load the data from the folder <TAXI_DATA_FOLDER> (the folder where you have downloaded the data),\n",
    "* fit a DictVectorizer on the training set (January 2022 data),\n",
    "* save the preprocessed datasets and the DictVectorizer to disk.\n",
    "\n",
    "\n",
    "Your task is to download the datasets and then execute this command:\n",
    "\n",
    "```bash\n",
    "python preprocess_data.py --raw_data_path <TAXI_DATA_FOLDER> --dest_path ./output\n",
    "```"
   ]
  },
  {
   "cell_type": "code",
   "execution_count": 16,
   "metadata": {},
   "outputs": [],
   "source": [
    "! python3 preprocess_data.py --raw_data_path {TAXI_DATA_FOLDER} --dest_path ./output"
   ]
  },
  {
   "attachments": {},
   "cell_type": "markdown",
   "metadata": {},
   "source": [
    "Tip: go to 02-experiment-tracking/homework/ folder before executing the command and change the value of <TAXI_DATA_FOLDER> to the location where you saved the data.\n",
    "\n",
    "So what's the size of the saved DictVectorizer file?"
   ]
  },
  {
   "cell_type": "code",
   "execution_count": 21,
   "metadata": {},
   "outputs": [
    {
     "name": "stdout",
     "output_type": "stream",
     "text": [
      "File size: 153.66 KB\n"
     ]
    }
   ],
   "source": [
    "def get_file_size(file_path):\n",
    "    size_in_bytes = os.path.getsize(file_path)\n",
    "    return size_in_bytes / 1000\n",
    "\n",
    "# Usage\n",
    "file_path = './output/dv.pkl'\n",
    "file_size_in_kb = get_file_size(file_path)\n",
    "print(f\"File size: {file_size_in_kb} KB\")"
   ]
  },
  {
   "attachments": {},
   "cell_type": "markdown",
   "metadata": {},
   "source": [
    "# Q3. Train a model with autolog\n",
    "We will train a RandomForestRegressor (from Scikit-Learn) on the taxi dataset.\n",
    "\n",
    "We have prepared the training script `train.py` for this exercise, which can be also found in the folder homework.\n",
    "\n",
    "The script will:\n",
    "\n",
    "* load the datasets produced by the previous step,\n",
    "* train the model on the training set,\n",
    "* calculate the RMSE score on the validation set.\n",
    "\n",
    "Your task is to modify the script to enable autologging with MLflow, execute the script and then launch the MLflow UI to check that the experiment run was properly tracked.\n",
    "\n",
    "**Tip 1**: don't forget to wrap the training code with a `with mlflow.start_run()`: statement as we showed in the videos.\n",
    "\n",
    "**Tip 2**: don't modify the hyperparameters of the model to make sure that the training will finish quickly.\n",
    "\n",
    "**What is the value of the `max_depth` parameter:**"
   ]
  },
  {
   "cell_type": "code",
   "execution_count": 23,
   "metadata": {},
   "outputs": [
    {
     "name": "stdout",
     "output_type": "stream",
     "text": [
      "2023/06/01 12:25:28 WARNING mlflow.utils.autologging_utils: MLflow autologging encountered a warning: \"/opt/miniconda3/envs/venv-mlflow/lib/python3.10/site-packages/_distutils_hack/__init__.py:33: UserWarning: Setuptools is replacing distutils.\"\n"
     ]
    }
   ],
   "source": [
    "!python3 train.py"
   ]
  },
  {
   "cell_type": "code",
   "execution_count": 25,
   "metadata": {},
   "outputs": [
    {
     "data": {
      "text/plain": [
       "'10'"
      ]
     },
     "execution_count": 25,
     "metadata": {},
     "output_type": "execute_result"
    }
   ],
   "source": [
    "client = MlflowClient()\n",
    "client.search_runs(experiment_ids='0')[0].data.params['max_depth']"
   ]
  },
  {
   "attachments": {},
   "cell_type": "markdown",
   "metadata": {},
   "source": [
    "# Launch the tracking server locally for MLflow\n",
    "Now we want to manage the entire lifecycle of our ML model. In this step, you'll need to launch a tracking server. This way we will also have access to the model registry.\n",
    "\n",
    "In case of MLflow, you need to:\n",
    "\n",
    "* launch the tracking server on your local machine,\n",
    "* select a SQLite db for the backend store and a folder called artifacts for the artifacts store.\n",
    "\n",
    "\n",
    "You should keep the tracking server running to work on the next three exercises that use the server."
   ]
  },
  {
   "cell_type": "code",
   "execution_count": 28,
   "metadata": {},
   "outputs": [
    {
     "name": "stdout",
     "output_type": "stream",
     "text": [
      "[2023-06-01 12:45:38 -0600] [30270] [INFO] Starting gunicorn 20.1.0\n",
      "[2023-06-01 12:45:38 -0600] [30270] [INFO] Listening at: http://127.0.0.1:5000 (30270)\n",
      "[2023-06-01 12:45:38 -0600] [30270] [INFO] Using worker: sync\n",
      "[2023-06-01 12:45:38 -0600] [30272] [INFO] Booting worker with pid: 30272\n",
      "[2023-06-01 12:45:38 -0600] [30273] [INFO] Booting worker with pid: 30273\n",
      "[2023-06-01 12:45:38 -0600] [30274] [INFO] Booting worker with pid: 30274\n",
      "[2023-06-01 12:45:38 -0600] [30275] [INFO] Booting worker with pid: 30275\n",
      "^C\n",
      "[2023-06-01 12:45:43 -0600] [30270] [INFO] Handling signal: int\n",
      "[2023-06-01 12:45:43 -0600] [30275] [INFO] Worker exiting (pid: 30275)\n",
      "[2023-06-01 12:45:43 -0600] [30273] [INFO] Worker exiting (pid: 30273)\n",
      "[2023-06-01 12:45:43 -0600] [30274] [INFO] Worker exiting (pid: 30274)\n",
      "[2023-06-01 12:45:43 -0600] [30272] [INFO] Worker exiting (pid: 30272)\n"
     ]
    }
   ],
   "source": [
    "!mlflow server --backend-store-uri sqlite:///mlflow.db --default-artifact-root ./artifacts"
   ]
  },
  {
   "attachments": {},
   "cell_type": "markdown",
   "metadata": {},
   "source": [
    "**Note**: This code was executed on a terminal. It is not possible to run the code in the background from a notebook."
   ]
  },
  {
   "attachments": {},
   "cell_type": "markdown",
   "metadata": {},
   "source": [
    "# Q4. Tune model hyperparameters\n",
    "Now let's try to reduce the validation error by tuning the hyperparameters of the `RandomForestRegressor` using `optuna`. We have prepared the script `hpo.py` for this exercise.\n",
    "\n",
    "Your task is to modify the script `hpo.py` and make sure that the validation RMSE is logged to the tracking server for each run of the hyperparameter optimization (you will need to add a few lines of code to the `objective` function) and run the script without passing any parameters.\n",
    "\n",
    "After that, open UI and explore the runs from the experiment called `random-forest-hyperopt` to answer the question below.\n",
    "\n",
    "Note: Don't use autologging for this exercise.\n",
    "\n",
    "The idea is to just log the information that you need to answer the question below, including:\n",
    "\n",
    "* the list of hyperparameters that are passed to the objective function during the optimization,\n",
    "* the RMSE obtained on the validation set (February 2022 data).\n",
    "\n",
    "\n",
    "**What's the best validation RMSE that you got?**"
   ]
  },
  {
   "cell_type": "code",
   "execution_count": null,
   "metadata": {},
   "outputs": [],
   "source": []
  }
 ],
 "metadata": {
  "kernelspec": {
   "display_name": "venv-mlflow",
   "language": "python",
   "name": "python3"
  },
  "language_info": {
   "codemirror_mode": {
    "name": "ipython",
    "version": 3
   },
   "file_extension": ".py",
   "mimetype": "text/x-python",
   "name": "python",
   "nbconvert_exporter": "python",
   "pygments_lexer": "ipython3",
   "version": "3.10.9"
  },
  "orig_nbformat": 4
 },
 "nbformat": 4,
 "nbformat_minor": 2
}
