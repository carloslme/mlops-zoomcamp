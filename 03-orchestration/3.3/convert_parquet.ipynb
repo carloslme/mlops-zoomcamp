{
 "cells": [
  {
   "cell_type": "code",
   "execution_count": 1,
   "metadata": {},
   "outputs": [],
   "source": [
    "import pyarrow.parquet as pq\n",
    "import pandas as pd\n"
   ]
  },
  {
   "cell_type": "code",
   "execution_count": 3,
   "metadata": {},
   "outputs": [],
   "source": [
    "def parquet_to_csv(parquet_file, csv_file):\n",
    "    # Read the Parquet file\n",
    "    table = pq.read_table(parquet_file)\n",
    "    \n",
    "    # Convert the table to a Pandas DataFrame\n",
    "    df = table.to_pandas()\n",
    "    \n",
    "    # Save the DataFrame as a CSV file\n",
    "    df.to_csv(csv_file, index=False)\n",
    "\n",
    "# Specify the paths for the Parquet and CSV files\n",
    "parquet_file = 'mlops-zoomcamp/02-experiment-tracking/data/green_tripdata_2022-02.parquet'\n",
    "csv_file = 'mlops-zoomcamp/03-orchestration/3.3/data/green_tripdata_2021-02.csv'\n",
    "\n",
    "# Call the function to convert Parquet to CSV\n",
    "parquet_to_csv(parquet_file, csv_file)"
   ]
  },
  {
   "cell_type": "code",
   "execution_count": null,
   "metadata": {},
   "outputs": [],
   "source": []
  }
 ],
 "metadata": {
  "kernelspec": {
   "display_name": "prefect-ops",
   "language": "python",
   "name": "python3"
  },
  "language_info": {
   "codemirror_mode": {
    "name": "ipython",
    "version": 3
   },
   "file_extension": ".py",
   "mimetype": "text/x-python",
   "name": "python",
   "nbconvert_exporter": "python",
   "pygments_lexer": "ipython3",
   "version": "3.9.12"
  },
  "orig_nbformat": 4
 },
 "nbformat": 4,
 "nbformat_minor": 2
}
